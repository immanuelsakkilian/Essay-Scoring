{
  "cells": [
    {
      "cell_type": "code",
      "execution_count": null,
      "metadata": {
        "colab": {
          "base_uri": "https://localhost:8080/"
        },
        "id": "TiVBoqaHWLsd",
        "outputId": "7388d423-0655-46dc-b247-94a48cb8ce42"
      },
      "outputs": [
        {
          "output_type": "stream",
          "name": "stdout",
          "text": [
            "Mounted at /content/drive\n"
          ]
        }
      ],
      "source": [
        "from google.colab import drive\n",
        "drive.mount('/content/drive')"
      ]
    },
    {
      "cell_type": "code",
      "source": [
        "! wget nlp.stanford.edu/data/glove.6B.zip\n",
        "! unzip glove.6B.zip"
      ],
      "metadata": {
        "colab": {
          "base_uri": "https://localhost:8080/"
        },
        "id": "D638UoOeVkVS",
        "outputId": "4c03adbd-6568-4f46-b0ba-bb31385c90ab"
      },
      "execution_count": null,
      "outputs": [
        {
          "output_type": "stream",
          "name": "stdout",
          "text": [
            "--2024-10-20 15:37:27--  http://nlp.stanford.edu/data/glove.6B.zip\n",
            "Resolving nlp.stanford.edu (nlp.stanford.edu)... 171.64.67.140\n",
            "Connecting to nlp.stanford.edu (nlp.stanford.edu)|171.64.67.140|:80... connected.\n",
            "HTTP request sent, awaiting response... 302 Found\n",
            "Location: https://nlp.stanford.edu/data/glove.6B.zip [following]\n",
            "--2024-10-20 15:37:27--  https://nlp.stanford.edu/data/glove.6B.zip\n",
            "Connecting to nlp.stanford.edu (nlp.stanford.edu)|171.64.67.140|:443... connected.\n",
            "HTTP request sent, awaiting response... 301 Moved Permanently\n",
            "Location: https://downloads.cs.stanford.edu/nlp/data/glove.6B.zip [following]\n",
            "--2024-10-20 15:37:27--  https://downloads.cs.stanford.edu/nlp/data/glove.6B.zip\n",
            "Resolving downloads.cs.stanford.edu (downloads.cs.stanford.edu)... 171.64.64.22\n",
            "Connecting to downloads.cs.stanford.edu (downloads.cs.stanford.edu)|171.64.64.22|:443... connected.\n",
            "HTTP request sent, awaiting response... 200 OK\n",
            "Length: 862182613 (822M) [application/zip]\n",
            "Saving to: ‘glove.6B.zip’\n",
            "\n",
            "glove.6B.zip        100%[===================>] 822.24M  2.86MB/s    in 3m 51s  \n",
            "\n",
            "2024-10-20 15:41:19 (3.55 MB/s) - ‘glove.6B.zip’ saved [862182613/862182613]\n",
            "\n",
            "Archive:  glove.6B.zip\n",
            "  inflating: glove.6B.50d.txt        \n",
            "  inflating: glove.6B.100d.txt       \n",
            "  inflating: glove.6B.200d.txt       \n",
            "  inflating: glove.6B.300d.txt       \n"
          ]
        }
      ]
    },
    {
      "cell_type": "code",
      "execution_count": null,
      "metadata": {
        "colab": {
          "base_uri": "https://localhost:8080/"
        },
        "id": "jRYyGACIW2SU",
        "outputId": "ebee566b-e2ad-4dcf-c6fd-b3f7c3ddc538"
      },
      "outputs": [
        {
          "output_type": "stream",
          "name": "stdout",
          "text": [
            "Collecting contractions\n",
            "  Downloading contractions-0.1.73-py2.py3-none-any.whl.metadata (1.2 kB)\n",
            "Collecting textsearch>=0.0.21 (from contractions)\n",
            "  Downloading textsearch-0.0.24-py2.py3-none-any.whl.metadata (1.2 kB)\n",
            "Collecting anyascii (from textsearch>=0.0.21->contractions)\n",
            "  Downloading anyascii-0.3.2-py3-none-any.whl.metadata (1.5 kB)\n",
            "Collecting pyahocorasick (from textsearch>=0.0.21->contractions)\n",
            "  Downloading pyahocorasick-2.1.0-cp310-cp310-manylinux_2_5_x86_64.manylinux1_x86_64.manylinux_2_12_x86_64.manylinux2010_x86_64.whl.metadata (13 kB)\n",
            "Downloading contractions-0.1.73-py2.py3-none-any.whl (8.7 kB)\n",
            "Downloading textsearch-0.0.24-py2.py3-none-any.whl (7.6 kB)\n",
            "Downloading anyascii-0.3.2-py3-none-any.whl (289 kB)\n",
            "\u001b[2K   \u001b[90m━━━━━━━━━━━━━━━━━━━━━━━━━━━━━━━━━━━━━━━━\u001b[0m \u001b[32m289.9/289.9 kB\u001b[0m \u001b[31m12.7 MB/s\u001b[0m eta \u001b[36m0:00:00\u001b[0m\n",
            "\u001b[?25hDownloading pyahocorasick-2.1.0-cp310-cp310-manylinux_2_5_x86_64.manylinux1_x86_64.manylinux_2_12_x86_64.manylinux2010_x86_64.whl (110 kB)\n",
            "\u001b[2K   \u001b[90m━━━━━━━━━━━━━━━━━━━━━━━━━━━━━━━━━━━━━━━━\u001b[0m \u001b[32m110.7/110.7 kB\u001b[0m \u001b[31m9.4 MB/s\u001b[0m eta \u001b[36m0:00:00\u001b[0m\n",
            "\u001b[?25hInstalling collected packages: pyahocorasick, anyascii, textsearch, contractions\n",
            "Successfully installed anyascii-0.3.2 contractions-0.1.73 pyahocorasick-2.1.0 textsearch-0.0.24\n"
          ]
        },
        {
          "output_type": "stream",
          "name": "stderr",
          "text": [
            "[nltk_data] Downloading package punkt to /root/nltk_data...\n",
            "[nltk_data]   Unzipping tokenizers/punkt.zip.\n",
            "[nltk_data] Downloading package stopwords to /root/nltk_data...\n",
            "[nltk_data]   Unzipping corpora/stopwords.zip.\n",
            "[nltk_data] Downloading package wordnet to /root/nltk_data...\n",
            "[nltk_data] Downloading package averaged_perceptron_tagger to\n",
            "[nltk_data]     /root/nltk_data...\n",
            "[nltk_data]   Unzipping taggers/averaged_perceptron_tagger.zip.\n"
          ]
        },
        {
          "output_type": "execute_result",
          "data": {
            "text/plain": [
              "True"
            ]
          },
          "metadata": {},
          "execution_count": 3
        }
      ],
      "source": [
        "!pip install contractions\n",
        "\n",
        "import pandas as pd\n",
        "import numpy as np\n",
        "import pandas as pd\n",
        "import matplotlib.pyplot as plt\n",
        "import sklearn, string, re, nltk, gensim, contractions, toolz\n",
        "from sklearn.base import BaseEstimator, TransformerMixin\n",
        "from toolz import pipe\n",
        "from sklearn.pipeline import Pipeline\n",
        "from nltk.tokenize import word_tokenize\n",
        "from nltk.stem import WordNetLemmatizer, PorterStemmer\n",
        "from nltk.corpus import wordnet, stopwords\n",
        "from nltk.tag import pos_tag\n",
        "from nltk.chunk import ne_chunk\n",
        "from gensim.models import Word2Vec,KeyedVectors\n",
        "import gensim.downloader as api\n",
        "from sklearn.feature_extraction.text import TfidfVectorizer, CountVectorizer\n",
        "from imblearn.over_sampling import SMOTE, ADASYN\n",
        "from sklearn.model_selection import GridSearchCV, RandomizedSearchCV\n",
        "from gensim.scripts.glove2word2vec import glove2word2vec\n",
        "from sklearn.model_selection import train_test_split\n",
        "from sklearn.naive_bayes import MultinomialNB\n",
        "from sklearn.svm import LinearSVC, SVC\n",
        "from sklearn.linear_model import LogisticRegression\n",
        "from sklearn.tree import DecisionTreeClassifier\n",
        "from sklearn.ensemble import GradientBoostingClassifier, RandomForestClassifier, AdaBoostClassifier, VotingClassifier\n",
        "from sklearn.model_selection import KFold\n",
        "from sklearn.metrics import mean_squared_error, classification_report, accuracy_score\n",
        "from sklearn.preprocessing import LabelEncoder\n",
        "from sklearn.ensemble import RandomForestRegressor\n",
        "from sklearn.metrics import confusion_matrix\n",
        "from sklearn import metrics\n",
        "\n",
        "nltk.download('punkt')\n",
        "nltk.download('stopwords')\n",
        "nltk.download('wordnet')\n",
        "nltk.download('averaged_perceptron_tagger')"
      ]
    },
    {
      "cell_type": "code",
      "execution_count": null,
      "metadata": {
        "id": "5lk3wJQ2XAGq"
      },
      "outputs": [],
      "source": [
        "final_data = pd.read_csv('/content/drive/My Drive/Colab Notebooks/Kaggle/Essay scoring/train.csv')"
      ]
    },
    {
      "cell_type": "code",
      "execution_count": null,
      "metadata": {
        "colab": {
          "base_uri": "https://localhost:8080/",
          "height": 559
        },
        "id": "wp1px8yFIoX8",
        "outputId": "2761063a-b3e1-4f16-9c3e-97131649f267"
      },
      "outputs": [
        {
          "output_type": "display_data",
          "data": {
            "text/plain": [
              "<Figure size 1000x600 with 1 Axes>"
            ],
            "image/png": "[encoded data removed]"
          },
          "metadata": {}
        }
      ],
      "source": [
        "plt.figure(figsize=(10, 6))\n",
        "final_data['score'].value_counts().plot(kind='bar')\n",
        "plt.title('Distribution of Categories')\n",
        "plt.xlabel('Category')\n",
        "plt.ylabel('Count')\n",
        "plt.show()"
      ]
    },
    {
      "cell_type": "code",
      "execution_count": null,
      "metadata": {
        "cellView": "form",
        "id": "80ckPZqaWd9r"
      },
      "outputs": [],
      "source": [
        "#@title Text Cleaning using Pipeline\n",
        "class Lowercase(BaseEstimator, TransformerMixin): # A custom transformer class for lowerring the case for all words\n",
        "  def fit(self, X, y=None):\n",
        "    return self\n",
        "\n",
        "  def transform(self, X):\n",
        "    return X.apply(lambda x: x.lower())\n",
        "\n",
        "class Contractions(BaseEstimator, TransformerMixin): # Contract i.e. convert words like don't => do not\n",
        "  def fit(self, X, y=None):\n",
        "    return self\n",
        "\n",
        "  def transform(self, X):\n",
        "    return X.apply(lambda x: contractions.fix(x))\n",
        "\n",
        "class RemoveUrl(BaseEstimator, TransformerMixin): # Remove Url's\n",
        "  def fit(self, X, y=None):\n",
        "    return self\n",
        "\n",
        "  def transform(self, X):\n",
        "    return X.apply(lambda x: re.sub(r\"https?://\\S+|www\\.\\S+\", '', x))\n",
        "\n",
        "\n",
        "class RemoveHtml(BaseEstimator, TransformerMixin): # Remove Html links\n",
        "  def fit(self, X, y=None):\n",
        "    return self\n",
        "\n",
        "  def transform(self, X):\n",
        "    html = re.compile(r\"<.*?>|&([a-z0-9]+|#[0-9]{1,6}|#x[0-9a-f]{1,6});\")\n",
        "    return X.apply(lambda x: re.sub(r'[^\\x00-\\x7f]', r'', x))\n",
        "\n",
        "class RemoveNonAscii(BaseEstimator, TransformerMixin): # Remove Non Ascii characters\n",
        "  def fit(self, X, y=None):\n",
        "    return self\n",
        "\n",
        "  def transform(self, X):\n",
        "    return X.apply(lambda x: re.sub(r'[^\\x00-\\x7f]', r'', x))\n",
        "\n",
        "class RemoveSpecialCharacters(BaseEstimator, TransformerMixin): # Remove the special characters like emojis, symbols, etc.\n",
        "  def fit(self, X, y=None):\n",
        "    return self\n",
        "\n",
        "  def transform(self, X):\n",
        "    emoji_pattern = re.compile(\n",
        "        '['\n",
        "        u'\\U0001F600-\\U0001F64F'  # emoticons\n",
        "        u'\\U0001F300-\\U0001F5FF'  # symbols & pictographs\n",
        "        u'\\U0001F680-\\U0001F6FF'  # transport & map symbols\n",
        "        u'\\U0001F1E0-\\U0001F1FF'  # flags (iOS)\n",
        "        u'\\U00002702-\\U000027B0'\n",
        "        u'\\U000024C2-\\U0001F251'\n",
        "        ']+',\n",
        "        flags=re.UNICODE)\n",
        "    return X.apply(lambda x: emoji_pattern.sub(r'', x))\n",
        "\n",
        "class RemovePunctuation(BaseEstimator, TransformerMixin): # Remove punctuation marks\n",
        "  def fit(self, X, y=None):\n",
        "    return self\n",
        "\n",
        "  def transform(self, X):\n",
        "    def replace_punctuation(text):  # Replace the commas with ' ' and rest other punctuations with ''\n",
        "      translation_table = str.maketrans({',': ' '})\n",
        "      text = text.translate(translation_table)\n",
        "      text = text.translate(str.maketrans('', '', string.punctuation))\n",
        "      return text\n",
        "\n",
        "    # return X.apply(lambda x: x.translate(str.maketrans('', '', string.punctuation)))\n",
        "    return X.apply(replace_punctuation)\n",
        "\n",
        "class Stemming(BaseEstimator, TransformerMixin): # For stemming the words\n",
        "  def fit(self, X, y=None):\n",
        "    return self\n",
        "\n",
        "  def transform(self, X):\n",
        "    stemmer = PorterStemmer()\n",
        "    stop_words = set(stopwords.words('english'))\n",
        "    return X.apply(lambda x: ' '.join([stemmer.stem(word) for word in nltk.word_tokenize(x) if word not in stop_words]))\n",
        "\n",
        "class Lemmatize(BaseEstimator, TransformerMixin): # For lemmatizing the words\n",
        "  def fit(self, X, y=None):\n",
        "    return self\n",
        "\n",
        "  def transform(self, X):\n",
        "    lemmatizer = WordNetLemmatizer()\n",
        "    stop_words = set(stopwords.words('english'))\n",
        "    return X.apply(lambda x: ' '.join([lemmatizer.lemmatize(word) for word in nltk.word_tokenize(x) if word not in stop_words]))\n",
        "\n",
        "text_cleaning_pipe = Pipeline([\n",
        "    ('lower', Lowercase()),\n",
        "    ('contractions', Contractions()),\n",
        "    ('remove_URL', RemoveUrl()),\n",
        "    ('remove_html', RemoveHtml()),\n",
        "    ('remove_non_ascii', RemoveNonAscii()),\n",
        "    ('remove_special_characters', RemoveSpecialCharacters()),\n",
        "    ('remove_punct', RemovePunctuation()),\n",
        "    # ('stemming', Stemming()),\n",
        "    ('lemmatize', Lemmatize())\n",
        "])\n",
        "\n",
        "text_cleaning_pipe.fit(final_data['full_text'], final_data['score'])\n",
        "\n",
        "final_data['word_tokens'] = text_cleaning_pipe.transform(final_data['full_text'])"
      ]
    },
    {
      "cell_type": "code",
      "execution_count": null,
      "metadata": {
        "id": "AtvVRbKMXr2R"
      },
      "outputs": [],
      "source": [
        "X_train, X_test, y_train, y_test = train_test_split(final_data['word_tokens'], final_data['score'], test_size=0.2, random_state=42)"
      ]
    },
    {
      "cell_type": "code",
      "execution_count": null,
      "metadata": {
        "id": "llhId5H0fenJ"
      },
      "outputs": [],
      "source": [
        "tfidf_vectorizer = TfidfVectorizer(min_df=2,  max_features=None, strip_accents='unicode', analyzer='word', token_pattern=r'\\w{1,}',\n",
        "                                   ngram_range=(1,2), use_idf=True, smooth_idf=True, sublinear_tf=True)\n",
        "\n",
        "tfidf_vectorizer.fit(list(X_train) + list(X_test))\n",
        "X_train_tfidf =  tfidf_vectorizer.transform(X_train)\n",
        "X_test_tfidf = tfidf_vectorizer.transform(X_test)\n",
        "\n",
        "X_train_tfidf = np.vstack(X_train_tfidf.to_numpy())\n",
        "X_test_tfidf = np.vstack(X_test_tfidf.to_numpy())"
      ]
    },
    {
      "cell_type": "code",
      "source": [
        "#### THIS IS BETTER THAN TFTDF\n",
        "\n",
        "count_vectorizer = CountVectorizer(analyzer='word',token_pattern=r'\\w{1,}', ngram_range=(1, 3), stop_words = 'english')\n",
        "\n",
        "count_vectorizer.fit(list(X_train) + list(X_test))\n",
        "X_train_countVec =  count_vectorizer.transform(X_train)\n",
        "X_test_countVec = count_vectorizer.transform(X_test)\n",
        "\n",
        "# X_train_countVec = np.vstack(X_train_countVec.to_numpy())\n",
        "# X_test_countVec = np.vstack(X_test_countVec.to_numpy())"
      ],
      "metadata": {
        "id": "IkFyp4x5r-V_"
      },
      "execution_count": null,
      "outputs": []
    },
    {
      "cell_type": "code",
      "source": [
        "glove2word2vec('glove.6B.300d.txt', 'glove_word2vec.txt')\n",
        "\n",
        "# Load the GloVe model\n",
        "glove_model = KeyedVectors.load_word2vec_format('glove_word2vec.txt')\n",
        "\n",
        "# Function to convert text to vector\n",
        "def get_glove_embedding(text):\n",
        "  words = text.split()\n",
        "  word_vectors = []\n",
        "  for word in words:\n",
        "    if word in glove_model.key_to_index:\n",
        "      word_vectors.append(glove_model[word])\n",
        "  if word_vectors:\n",
        "    return np.mean(word_vectors, axis=0)\n",
        "  else:\n",
        "    return np.zeros(300)  # Assuming 300-dimensional embeddings\n",
        "\n",
        "# Apply the function to a DataFrame column\n",
        "X_train_tfidf = X_train.apply(get_glove_embedding)\n",
        "X_test_tfidf = X_test.apply(get_glove_embedding)"
      ],
      "metadata": {
        "colab": {
          "base_uri": "https://localhost:8080/"
        },
        "id": "Sc8Ktyn_Wgiz",
        "outputId": "c304aa7d-4a3b-4b33-e8fd-e8516a289373"
      },
      "execution_count": null,
      "outputs": [
        {
          "output_type": "stream",
          "name": "stderr",
          "text": [
            "<ipython-input-9-9923360024d1>:1: DeprecationWarning: Call to deprecated `glove2word2vec` (KeyedVectors.load_word2vec_format(.., binary=False, no_header=True) loads GLoVE text vectors.).\n",
            "  glove2word2vec('glove.6B.300d.txt', 'glove_word2vec.txt')\n"
          ]
        }
      ]
    },
    {
      "cell_type": "code",
      "execution_count": null,
      "metadata": {
        "id": "gOLb0hd1Gwcc"
      },
      "outputs": [],
      "source": [
        "smote = SMOTE(sampling_strategy='auto')\n",
        "# X_resampled_tfidf, y_resampled_tfidf = smote.fit_resample(X_train_tfidf, y_train)\n",
        "X_resampled_countVec, y_resampled_countVec = smote.fit_resample(X_train_countVec, y_train)\n",
        "\n",
        "# adasyn = ADASYN(sampling_strategy='auto')\n",
        "# X_resampled, y_resampled = adasyn.fit_resample(X_train_tfidf, y_train)"
      ]
    },
    {
      "cell_type": "code",
      "source": [
        "plt.figure(figsize=(10, 6))\n",
        "pd.Series(y_resampled_countVec).value_counts().plot(kind='bar')\n",
        "plt.title('Distribution of Categories')\n",
        "plt.xlabel('Category')\n",
        "plt.ylabel('Count')\n",
        "plt.show()"
      ],
      "metadata": {
        "colab": {
          "base_uri": "https://localhost:8080/",
          "height": 559
        },
        "id": "QVhhPzlQ6wTG",
        "outputId": "4ea19f67-2e5f-40ef-97df-2de566427f14"
      },
      "execution_count": null,
      "outputs": [
        {
          "output_type": "display_data",
          "data": {
            "text/plain": [
              "<Figure size 1000x600 with 1 Axes>"
            ],
            "image/png": "[encoded data removed]"
          },
          "metadata": {}
        }
      ]
    },
    {
      "cell_type": "code",
      "source": [
        "model = LogisticRegression(C = 1, max_iter = 1000, n_jobs=-1)\n",
        "model.fit(X_resampled_countVec, y_resampled_countVec)\n",
        "y_pred = model.predict(X_test_countVec)\n",
        "print(\"Accuracy: \"+str(accuracy_score(y_test,y_pred)))\n",
        "print(classification_report(y_test, y_pred))"
      ],
      "metadata": {
        "colab": {
          "base_uri": "https://localhost:8080/"
        },
        "id": "pF_v8-bVme8Y",
        "outputId": "e75f8a64-7147-4e16-9879-b803e724502e"
      },
      "execution_count": null,
      "outputs": [
        {
          "output_type": "stream",
          "name": "stdout",
          "text": [
            "Accuracy: 0.47978047371461585\n",
            "              precision    recall  f1-score   support\n",
            "\n",
            "           1       0.47      0.49      0.48       260\n",
            "           2       0.59      0.62      0.60       965\n",
            "           3       0.49      0.46      0.47      1265\n",
            "           4       0.38      0.38      0.38       750\n",
            "           5       0.31      0.38      0.34       183\n",
            "           6       0.15      0.13      0.14        39\n",
            "\n",
            "    accuracy                           0.48      3462\n",
            "   macro avg       0.40      0.41      0.40      3462\n",
            "weighted avg       0.48      0.48      0.48      3462\n",
            "\n"
          ]
        }
      ]
    },
    {
      "cell_type": "code",
      "execution_count": null,
      "metadata": {
        "colab": {
          "base_uri": "https://localhost:8080/"
        },
        "id": "NgzqqeXZxVto",
        "outputId": "46d6b63b-1a81-4372-9fde-51d48442bcb2"
      },
      "outputs": [
        {
          "output_type": "stream",
          "name": "stdout",
          "text": [
            "Accuracy: 0.3463316002310803\n",
            "              precision    recall  f1-score   support\n",
            "\n",
            "           1       0.51      0.30      0.38       260\n",
            "           2       0.44      0.24      0.31       965\n",
            "           3       0.41      0.35      0.37      1265\n",
            "           4       0.31      0.52      0.39       750\n",
            "           5       0.14      0.30      0.19       183\n",
            "           6       0.08      0.21      0.12        39\n",
            "\n",
            "    accuracy                           0.35      3462\n",
            "   macro avg       0.32      0.32      0.29      3462\n",
            "weighted avg       0.39      0.35      0.35      3462\n",
            "\n"
          ]
        }
      ],
      "source": [
        "mnb = MultinomialNB()\n",
        "mnb.fit(X_resampled_countVec, y_resampled_countVec)\n",
        "y_pred3 = mnb.predict(X_test_countVec)\n",
        "print(\"Accuracy: \"+str(accuracy_score(y_test,y_pred3)))\n",
        "print(classification_report(y_test, y_pred3))"
      ]
    },
    {
      "cell_type": "code",
      "execution_count": null,
      "metadata": {
        "colab": {
          "base_uri": "https://localhost:8080/"
        },
        "id": "Ciy-7z5hwOyJ",
        "outputId": "62c12977-2dbf-43d3-a4b4-102b712aaa94"
      },
      "outputs": [
        {
          "output_type": "stream",
          "name": "stdout",
          "text": [
            "Accuracy: 0.3833044482957828\n",
            "              precision    recall  f1-score   support\n",
            "\n",
            "           1       0.39      0.47      0.43       260\n",
            "           2       0.45      0.45      0.45       965\n",
            "           3       0.41      0.37      0.39      1265\n",
            "           4       0.31      0.33      0.32       750\n",
            "           5       0.25      0.27      0.26       183\n",
            "           6       0.06      0.05      0.05        39\n",
            "\n",
            "    accuracy                           0.38      3462\n",
            "   macro avg       0.31      0.32      0.32      3462\n",
            "weighted avg       0.38      0.38      0.38      3462\n",
            "\n"
          ]
        },
        {
          "output_type": "stream",
          "name": "stderr",
          "text": [
            "/usr/local/lib/python3.10/dist-packages/sklearn/svm/_base.py:1235: ConvergenceWarning: Liblinear failed to converge, increase the number of iterations.\n",
            "  warnings.warn(\n"
          ]
        }
      ],
      "source": [
        "svc = LinearSVC()\n",
        "svc.fit(X_resampled_countVec, y_resampled_countVec)\n",
        "y_pred2 = svc.predict(X_test_countVec)\n",
        "print(\"Accuracy: \"+str(accuracy_score(y_test,y_pred2)))\n",
        "print(classification_report(y_test, y_pred2))"
      ]
    },
    {
      "cell_type": "code",
      "execution_count": null,
      "metadata": {
        "colab": {
          "base_uri": "https://localhost:8080/"
        },
        "id": "_Q9nnVEM07Ug",
        "outputId": "8f7fea23-6c51-4778-cd85-3c96b62f3a6c"
      },
      "outputs": [
        {
          "output_type": "stream",
          "name": "stdout",
          "text": [
            "Accuracy: 0.4220103986135182\n",
            "              precision    recall  f1-score   support\n",
            "\n",
            "           1       0.31      0.59      0.40       260\n",
            "           2       0.44      0.55      0.49       965\n",
            "           3       0.53      0.20      0.29      1265\n",
            "           4       0.43      0.59      0.50       750\n",
            "           5       0.31      0.45      0.37       183\n",
            "           6       0.00      0.00      0.00        39\n",
            "\n",
            "    accuracy                           0.42      3462\n",
            "   macro avg       0.34      0.40      0.34      3462\n",
            "weighted avg       0.45      0.42      0.40      3462\n",
            "\n"
          ]
        },
        {
          "output_type": "stream",
          "name": "stderr",
          "text": [
            "/usr/local/lib/python3.10/dist-packages/sklearn/metrics/_classification.py:1531: UndefinedMetricWarning: Precision is ill-defined and being set to 0.0 in labels with no predicted samples. Use `zero_division` parameter to control this behavior.\n",
            "  _warn_prf(average, modifier, f\"{metric.capitalize()} is\", len(result))\n",
            "/usr/local/lib/python3.10/dist-packages/sklearn/metrics/_classification.py:1531: UndefinedMetricWarning: Precision is ill-defined and being set to 0.0 in labels with no predicted samples. Use `zero_division` parameter to control this behavior.\n",
            "  _warn_prf(average, modifier, f\"{metric.capitalize()} is\", len(result))\n",
            "/usr/local/lib/python3.10/dist-packages/sklearn/metrics/_classification.py:1531: UndefinedMetricWarning: Precision is ill-defined and being set to 0.0 in labels with no predicted samples. Use `zero_division` parameter to control this behavior.\n",
            "  _warn_prf(average, modifier, f\"{metric.capitalize()} is\", len(result))\n"
          ]
        }
      ],
      "source": [
        "rfc = RandomForestClassifier(n_estimators=300, max_depth=15, random_state=42, class_weight='balanced')\n",
        "rfc.fit(X_train_tfidf,y_train)\n",
        "y_pred4 = rfc.predict(X_test_tfidf)\n",
        "print(\"Accuracy: \"+str(accuracy_score(y_test,y_pred4)))\n",
        "print(classification_report(y_test, y_pred4))"
      ]
    },
    {
      "cell_type": "code",
      "execution_count": null,
      "metadata": {
        "colab": {
          "base_uri": "https://localhost:8080/"
        },
        "id": "vxREnKQL1mRx",
        "outputId": "9e94c54f-a020-445d-8da5-4ff0b9e1fa9f"
      },
      "outputs": [
        {
          "name": "stdout",
          "output_type": "stream",
          "text": [
            "      Iter       Train Loss   Remaining Time \n",
            "         1           1.4047           10.55m\n",
            "         2           1.3737            8.30m\n",
            "         3           1.3450            7.67m\n",
            "         4           1.3204            7.52m\n",
            "         5           1.2961            7.14m\n",
            "         6           1.2751            6.88m\n",
            "         7           1.2551            6.83m\n",
            "         8           1.2358            6.72m\n",
            "         9           1.2187            6.55m\n",
            "        10           1.2015            6.39m\n",
            "        20           1.0712            5.64m\n",
            "        30           0.9858            4.88m\n",
            "        40           0.9230            4.16m\n",
            "        50           0.8721            3.46m\n",
            "        60           0.8315            2.76m\n",
            "        70           0.7949            2.07m\n",
            "        80           0.7650            1.38m\n",
            "        90           0.7389           41.13s\n",
            "       100           0.7160            0.00s\n",
            "0.53841709994223\n",
            "              precision    recall  f1-score   support\n",
            "\n",
            "           0       0.60      0.17      0.27       260\n",
            "           1       0.58      0.64      0.60       965\n",
            "           2       0.54      0.62      0.58      1265\n",
            "           3       0.51      0.49      0.50       750\n",
            "           4       0.42      0.23      0.30       183\n",
            "           5       0.08      0.05      0.06        39\n",
            "\n",
            "    accuracy                           0.54      3462\n",
            "   macro avg       0.45      0.37      0.39      3462\n",
            "weighted avg       0.54      0.54      0.53      3462\n",
            "\n"
          ]
        }
      ],
      "source": [
        "gbc = GradientBoostingClassifier(n_estimators=100, max_depth=4, random_state=1, verbose=1)\n",
        "gbc.fit(X_train_tfidf, y_train)\n",
        "y_pred5 = gbc.predict(X_test_tfidf)\n",
        "print(accuracy_score(y_test, y_pred5))\n",
        "print(classification_report(y_test, y_pred5))"
      ]
    },
    {
      "cell_type": "code",
      "execution_count": null,
      "metadata": {
        "id": "ezi_b71J1ooB",
        "colab": {
          "base_uri": "https://localhost:8080/"
        },
        "outputId": "58a47a42-3695-4833-9ee6-b0dcd02cf494"
      },
      "outputs": [
        {
          "output_type": "execute_result",
          "data": {
            "text/plain": [
              "list"
            ]
          },
          "metadata": {},
          "execution_count": 11
        }
      ],
      "source": [
        "array = [1,2,3,4,5]\n",
        "\n",
        "type(array)"
      ]
    },
    {
      "cell_type": "code",
      "source": [],
      "metadata": {
        "id": "b5IHQ1mbpe6A"
      },
      "execution_count": null,
      "outputs": []
    }
  ],
  "metadata": {
    "colab": {
      "provenance": [],
      "gpuType": "T4",
      "authorship_tag": "ABX9TyOlEMIxxwcExVWT3PbE5M1w"
    },
    "kernelspec": {
      "display_name": "Python 3",
      "name": "python3"
    },
    "language_info": {
      "name": "python"
    },
    "accelerator": "GPU"
  },
  "nbformat": 4,
  "nbformat_minor": 0
}